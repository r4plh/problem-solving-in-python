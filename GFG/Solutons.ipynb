{
 "cells": [
  {
   "cell_type": "code",
   "execution_count": null,
   "metadata": {},
   "outputs": [],
   "source": [
    "class Solution:\n",
    "    def closestNumber(self, n , m):\n",
    "        \n",
    "        b = True\n",
    "        a = True\n",
    "        if (m<0):\n",
    "            m = -1*m\n",
    "            a = False\n",
    "        if (n<0):\n",
    "            b = False\n",
    "            n = -1*n\n",
    "            \n",
    "        if (m>n):\n",
    "            if(m-n > n):\n",
    "                return 0\n",
    "            else:\n",
    "                if (b == True):\n",
    "                    return m\n",
    "                else:\n",
    "                    return -1*m\n",
    "            \n",
    "        else:\n",
    "            rem = n%m\n",
    "            num1 = n - rem\n",
    "            num2 = num1 + m\n",
    "            if(n - num1 < num2 - n):\n",
    "                if(b == False):\n",
    "                    return -1*num1\n",
    "                else:\n",
    "                    return num1\n",
    "                \n",
    "            else:\n",
    "                if(b == False):\n",
    "                    return -1*num2\n",
    "                else:\n",
    "                    return num2\n",
    "            "
   ]
  }
 ],
 "metadata": {
  "language_info": {
   "name": "python"
  }
 },
 "nbformat": 4,
 "nbformat_minor": 2
}
